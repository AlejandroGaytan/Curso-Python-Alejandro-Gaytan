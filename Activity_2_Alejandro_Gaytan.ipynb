{
  "nbformat": 4,
  "nbformat_minor": 0,
  "metadata": {
    "colab": {
      "provenance": [],
      "include_colab_link": true
    },
    "kernelspec": {
      "name": "python3",
      "display_name": "Python 3"
    },
    "language_info": {
      "name": "python"
    }
  },
  "cells": [
    {
      "cell_type": "markdown",
      "metadata": {
        "id": "view-in-github",
        "colab_type": "text"
      },
      "source": [
        "<a href=\"https://colab.research.google.com/github/AlejandroGaytan/Curso-Python-Alejandro-Gaytan/blob/main/Activity_2_Alejandro_Gaytan.ipynb\" target=\"_parent\"><img src=\"https://colab.research.google.com/assets/colab-badge.svg\" alt=\"Open In Colab\"/></a>"
      ]
    },
    {
      "cell_type": "markdown",
      "source": [
        "\n",
        "\n",
        "---\n",
        "\n",
        "\n",
        "# **ACTIVIDAD 2**\n",
        "\n",
        "## Estructuras de control\n",
        "\n",
        "###**NOTA** 🌟: Para realizar la actividad y que le permita guardar cambios es necesario **sacarle una copia** al archivo original. Recuerde que todo archivo al que le saque copia se ira directamente a su carpeta de **Colab Notebooks** dentro de su **Drive**. Una vez terminado, descargue su archivo de actividad con extensión **.ipynb** y adjúntelo a la tarea correspondiente en el curso de la plataforma de [Formación docente cucei](http://formaciondocente.cucei.udg.mx/mod/assign/view.php?id=41441).\n",
        "\n",
        "---\n",
        "\n"
      ],
      "metadata": {
        "id": "eDxxkNgBumYd"
      }
    },
    {
      "cell_type": "code",
      "source": [],
      "metadata": {
        "id": "yNv-pYFNcoKX"
      },
      "execution_count": null,
      "outputs": []
    },
    {
      "cell_type": "markdown",
      "source": [
        "# **Estructura secuencial**\n",
        "\n",
        "\n",
        "---\n",
        "\n",
        "\n",
        "> Utilice la estructura en forma secuencial para realizar el siguiente ejercicio.\n",
        "\n",
        "\n",
        "\n",
        "\n"
      ],
      "metadata": {
        "id": "YuPPqaWXhqQm"
      }
    },
    {
      "cell_type": "markdown",
      "source": [
        "###**Ejercicio 1**\n",
        "\n",
        "####Realice un programa que le solicite al usuario una cantidad de pesos y los convierta a dólares. Se tomará la equivalencia de 1 Dólar = 17.35 pesos. Despliegue en pantalla los resultados. Solicite la cantidad de pesos por medio de `float(input())`.\n",
        "\n",
        "####**Ejemplo de salida en pantalla:**\n",
        "\n",
        "```\n",
        "Ingrese la cantidad de pesos a convertir: 1214\n",
        "\n",
        "$1214 pesos equivalen a $69.97 dólares.\n",
        "```\n",
        "\n"
      ],
      "metadata": {
        "id": "6pMx2LuuTL7A"
      }
    },
    {
      "cell_type": "code",
      "source": [
        "#Data imput\n",
        "MXP=float(input('Ingrese la cantidad en pesos :'))\n",
        "USD=MXP*17.35\n",
        "print(\"{:.2f} MX pesos is equivalent to {:.2f} dolars\".format(MXP,USD))"
      ],
      "metadata": {
        "id": "kXC6s3P0hbXa",
        "colab": {
          "base_uri": "https://localhost:8080/"
        },
        "outputId": "d86beebd-835a-406b-b7d8-4e72090133cc"
      },
      "execution_count": null,
      "outputs": [
        {
          "output_type": "stream",
          "name": "stdout",
          "text": [
            "Ingrese la cantidad en pesos :10\n",
            "10.00 MX pesos is equivalent to 173.50 dolars\n"
          ]
        }
      ]
    },
    {
      "cell_type": "markdown",
      "source": [
        "# **Estructura selectiva**\n",
        "\n",
        "---\n",
        "\n",
        "\n",
        "> Utilice la estructura selectiva para realizar los siguientes ejercicios.\n",
        "\n"
      ],
      "metadata": {
        "id": "U_JiJkRYZmwC"
      }
    },
    {
      "cell_type": "markdown",
      "source": [
        "###**Ejercicio 1**\n",
        "\n",
        "####Imprimir si un estudiante es admitido o no en la universidad con base en la calificación de la preparatoria y del examen de admisión. Calcule el promedio con base en las dos calificaciones. El promedio mínimo de admisión es 85.\n",
        "\n"
      ],
      "metadata": {
        "id": "HXO1rewOxDG_"
      }
    },
    {
      "cell_type": "code",
      "source": [
        "Highschool=float(input('Enter you high school average score: '))\n",
        "Testav=float(input('Enter you test admision score: '))\n",
        "average=(Testav+Highschool)/2\n",
        "if average>=85:\n",
        "  print('Approved')\n",
        "else:\n",
        "  print('Reject')"
      ],
      "metadata": {
        "id": "7vuNvX8ao9nn",
        "colab": {
          "base_uri": "https://localhost:8080/"
        },
        "outputId": "60af387a-7bfd-44c8-9ee6-d961348eccc7"
      },
      "execution_count": null,
      "outputs": [
        {
          "output_type": "stream",
          "name": "stdout",
          "text": [
            "Enter you high school average score: 90\n",
            "Enter you test admision score: 60\n",
            "Reject\n"
          ]
        }
      ]
    },
    {
      "cell_type": "markdown",
      "source": [
        "###**Ejercicio 2**\n",
        "\n",
        "####Imprime **1** si `a == b`, imprime **2** si `a > b`, imprime **3** si `a < b`, en caso contrario imprime **4**. Solicite el valor de `a y b` por medio de `int(input())`. Utilice a la estructura `if - elif - else` para realizar este ejercicio."
      ],
      "metadata": {
        "id": "Bongy9IwG3v9"
      }
    },
    {
      "cell_type": "code",
      "source": [
        "a=int(input('Enter a value please: '))\n",
        "b=int(input('Enter b value please: '))\n",
        "if a==b:\n",
        "  print('1')\n",
        "elif a>b:\n",
        "  print('2')\n",
        "elif a<b:\n",
        "  print('3')\n",
        "else:\n",
        "  print('4')"
      ],
      "metadata": {
        "id": "VqQdKg5EG2c4",
        "colab": {
          "base_uri": "https://localhost:8080/"
        },
        "outputId": "b8d4ecbe-9d34-4959-8c6a-7bac0e97181d"
      },
      "execution_count": null,
      "outputs": [
        {
          "output_type": "stream",
          "name": "stdout",
          "text": [
            "Enter a value please: 10\n",
            "Enter b value please: 5\n",
            "2\n"
          ]
        }
      ]
    },
    {
      "cell_type": "markdown",
      "source": [
        "# **Estructura repetitiva**\n",
        "\n",
        "---\n",
        "\n",
        "\n",
        "\n",
        "> Resuelva los siguientes ejercicios empleando a las estructuras repetitivas.\n",
        "\n"
      ],
      "metadata": {
        "id": "kvw2BiGp1NIY"
      }
    },
    {
      "cell_type": "markdown",
      "source": [
        "###**Ejercicio 1:**\n",
        "\n",
        "####Imprime `i` mientras que `i < 6`. El valor inicial de `i` es `i = 0`. Utilice al ciclo `while` para realizar este ejercicio.\n"
      ],
      "metadata": {
        "id": "3KVJlGro2auu"
      }
    },
    {
      "cell_type": "code",
      "source": [
        "i=0\n",
        "while i<6:\n",
        "  print(i)\n",
        "  i+=1"
      ],
      "metadata": {
        "id": "0n9Rb4q20WNy",
        "colab": {
          "base_uri": "https://localhost:8080/"
        },
        "outputId": "bfb86a6c-60e6-4b7e-eb6d-6d73151100a7"
      },
      "execution_count": null,
      "outputs": [
        {
          "output_type": "stream",
          "name": "stdout",
          "text": [
            "0\n",
            "1\n",
            "2\n",
            "3\n",
            "4\n",
            "5\n"
          ]
        }
      ]
    },
    {
      "cell_type": "markdown",
      "source": [
        "###**Ejercicio 2:**\n",
        "\n",
        "####Recorrer e imprimir las letras de la palabra **\"PROGRAMA\"**. Cada que aparezca la letra **A** en vez de imprimirla se mostrará en pantalla un arroba @. Utilice a la estructura `for` para realizar este ejercicio. También utilice a la función `continue` para saltar las instrucciones cuando se encuentre a la letra  **A**.\n",
        "\n",
        "####**Ejemplo de salida en pantalla:**\n",
        "```\n",
        "P\n",
        "R\n",
        "O\n",
        "G\n",
        "R\n",
        "@\n",
        "M\n",
        "@\n",
        "```\n"
      ],
      "metadata": {
        "id": "C3Tn9OhN2clI"
      }
    },
    {
      "cell_type": "code",
      "source": [],
      "metadata": {
        "id": "jz6C3qaatETz"
      },
      "execution_count": null,
      "outputs": []
    },
    {
      "cell_type": "code",
      "source": [
        "for casei in \"PROGRAMA\":\n",
        "  if casei == 'A':\n",
        "    print('@')\n",
        "    continue\n",
        "  print(casei)\n",
        "\n",
        "\n",
        "\n",
        "\n"
      ],
      "metadata": {
        "id": "pA1y67Uf2jjU",
        "colab": {
          "base_uri": "https://localhost:8080/"
        },
        "outputId": "781e1b9c-4723-4739-fab4-3dde6fbfb957"
      },
      "execution_count": null,
      "outputs": [
        {
          "output_type": "stream",
          "name": "stdout",
          "text": [
            "P\n",
            "R\n",
            "O\n",
            "G\n",
            "R\n",
            "@\n",
            "M\n",
            "@\n"
          ]
        }
      ]
    }
  ]
}